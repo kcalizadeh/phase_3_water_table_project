{
 "metadata": {
  "language_info": {
   "codemirror_mode": {
    "name": "ipython",
    "version": 3
   },
   "file_extension": ".py",
   "mimetype": "text/x-python",
   "name": "python",
   "nbconvert_exporter": "python",
   "pygments_lexer": "ipython3",
   "version": "3.6.9-final"
  },
  "orig_nbformat": 2,
  "kernelspec": {
   "name": "python3",
   "display_name": "Python 3"
  }
 },
 "nbformat": 4,
 "nbformat_minor": 2,
 "cells": [
  {
   "cell_type": "code",
   "execution_count": null,
   "metadata": {},
   "outputs": [],
   "source": []
  },
  {
   "cell_type": "code",
   "execution_count": 1,
   "metadata": {},
   "outputs": [],
   "source": [
    "from functions import *\n",
    "\n",
    "train_ft = pd.read_csv('pump_data/training_set_features.csv')\n",
    "train_labels = pd.read_csv('pump_data/training_set_labels.csv')\n",
    "xtrain, xtest, ytrain, ytest = train_test_split(train_ft, train_labels, random_state=17)\n",
    "\n",
    "# merge them for EDA purposes\n",
    "df = xtrain.merge(ytrain, on='id')\n",
    "\n",
    "# a numeric version of our target\n",
    "df['status_group_numeric'] = df['status_group'].map(lambda x: 1 if x == 'functional' else -1 if x == 'non functional' else 0)\n",
    "\n",
    "# filling in null values\n",
    "df['funder'] = df['funder'].fillna(value='unknown', axis=0)\n",
    "df['public_meeting'] = df['public_meeting'].fillna(value='unknown', axis=0)\n",
    "df['scheme_management'] = df['scheme_management'].fillna(value='unknown', axis=0)\n",
    "\n",
    "# consolidating waterpoint types that have only a small and non-predictive representation\n",
    "df['waterpoint_type_group'] = df['waterpoint_type_group'].map(lambda x: lambda x: 'other' if x == 'dam' \n",
    "                                                                                        else 'other' if x == 'cattle trough' \n",
    "                                                                                        else 'other' if x == 'improved spring' else x)"
   ]
  },
  {
   "source": [
    "## Question 1 - is there any geographic pattern to the distribution of non-functional wells?\n",
    "\n",
    "Finding any geographic trends in the data would help us identify which government bodies most urgently need funding for well repairs. It would also help us discern any predictive trends in the data. A map of the country with the wells is provided below."
   ],
   "cell_type": "markdown",
   "metadata": {}
  },
  {
   "cell_type": "code",
   "execution_count": null,
   "metadata": {},
   "outputs": [],
   "source": [
    "df['Well Status'] = df['status_group'].map(lambda x: 'Functional' if x == 'functional' \n",
    "                                                                  else 'Non-Functional' if x == 'non functional' \n",
    "                                                                  else 'Needs Repair')\n",
    "fig = plt.figure(figsize=(15, 15))\n",
    "sns.set_style('whitegrid')\n",
    "graph_palette = {'Non-Functional':'r', 'Functional':'b', 'Needs Repair':\"y\"}\n",
    "geo_status_chart = sns.scatterplot(data=df, x='longitude', y='latitude', hue='Well Status', alpha=0.3, palette=graph_palette)\n",
    "sns.despine(left=True, bottom=True)\n",
    "plt.title('Geographic Distribution of Wells in Tanzania', size='xx-large')\n",
    "plt.xlabel('Longitude', size='x-large')\n",
    "plt.ylabel('Latitude', size='x-large')\n",
    "plt.yticks(ticks=geo_status_chart.get_yticks(), size='large')\n",
    "plt.xticks(ticks=geo_status_chart.get_xticks(), size='large')\n",
    "plt.ylim(bottom=-12, top=-0.2)\n",
    "plt.xlim(left=29, right=41)\n",
    "plt.show()"
   ]
  },
  {
   "source": [
    "From this chart it can be seen that there is no direct geographical line that we could draw to separate functional from non-functional wells. Nonetheless, the wells do seem to form clusters, and there seem to more non-functional wells in the south-eastern section of the country.\n",
    "\n",
    "Based on this, we recommend prioritizing aid to the regions of Lindi and Mtwara in the South, together with Dodoma, Tabora, and Rukwa in the center of the country and Mwara in the North."
   ],
   "cell_type": "markdown",
   "metadata": {}
  },
  {
   "source": [
    "## Other Observations about the data\n",
    "\n",
    "- We have identified about about 2000 wells that can provide enough high-quality water, but are listed as 'functional in need of repair.' These should be our top priorities, especially those located in otherwise water-starved regions.\n",
    "\n",
    "- In addition to these, there are a number of wells which have enough water, but are not functioning at this time. These would be ideal wells to try and repair so that they could become functional. Failing that, we should dig wells near those sites since the water is available there."
   ],
   "cell_type": "markdown",
   "metadata": {}
  },
  {
   "cell_type": "code",
   "execution_count": null,
   "metadata": {},
   "outputs": [],
   "source": []
  }
 ]
}